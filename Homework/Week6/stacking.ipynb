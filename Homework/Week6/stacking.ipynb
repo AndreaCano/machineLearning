{
 "cells": [
  {
   "cell_type": "markdown",
   "metadata": {},
   "source": [
    "# Stacking Regressor\n",
    "## Diabetes Dataset\n",
    "### Andrea Cano\n"
   ]
  },
  {
   "cell_type": "markdown",
   "metadata": {},
   "source": [
    "***\n",
    "\n",
    "## Introduction\n",
    "\n",
    "Stacking is a type of Ensemble Method that is used to combine \"weak\" learners in order to make a strong model. In this markdown, there is a simple Stacking Regressor that shows the blending of these different regression models with the fit(), predict(), and score() functions. To demonstrate the function, the Diabetes dataset from sklearn will help."
   ]
  },
  {
   "cell_type": "code",
   "execution_count": 1,
   "metadata": {},
   "outputs": [],
   "source": [
    "import numpy as np \n",
    "import pandas as pd\n",
    "import matplotlib.pyplot as plt\n",
    "import seaborn as sns\n",
    "from sklearn import datasets\n",
    "from sklearn.model_selection import train_test_split\n",
    "from sklearn.linear_model import LinearRegression, Ridge\n",
    "from sklearn.ensemble import RandomForestRegressor\n",
    "from sklearn.metrics import mean_squared_error, mean_absolute_error\n",
    "#accuracy score not for regression"
   ]
  },
  {
   "cell_type": "markdown",
   "metadata": {},
   "source": [
    "## Stacking Class"
   ]
  },
  {
   "cell_type": "code",
   "execution_count": 2,
   "metadata": {},
   "outputs": [],
   "source": [
    "class StackingRegressor:\n",
    "    def __init__(self, regs):\n",
    "       self.regs = regs\n",
    "       # Creating holders\n",
    "       self.fits = []\n",
    "       self.preds = []\n",
    "       # Defining Blender\n",
    "       self.blend = RandomForestRegressor()\n",
    "       \n",
    "    def fit(self, X, y):\n",
    "        X_train, X_test, y_train, y_test = train_test_split(X, y, test_size=.5) # split data in half\n",
    "        for r in self.regs:\n",
    "            fit_var = r.fit(X_train,y = y_train) #create var to use with predict\n",
    "            self.fits.append(fit_var) # fit and add to array\n",
    "            self.preds.append(fit_var.predict(X_test)) # predict and add to array\n",
    "            \n",
    "        self.preds = np.transpose(self.preds) # transpose so that columns not rows\n",
    "        self.blend = self.blend.fit(self.preds,y_test)  # fit blender\n",
    "        return self.fits # return the fits\n",
    "    \n",
    "    def predict(self, X):\n",
    "        # Get from ten features to three features\n",
    "        # Run the regressors to get the three features\n",
    "        x_predictions = []\n",
    "        for r in self.fits:\n",
    "            x_predictions.append(r.predict(X)) # going through fitted regressors\n",
    "            \n",
    "        x_predictions = np.transpose(x_predictions)\n",
    "        y_pred = self.blend.predict(x_predictions) # training blender on predicts\n",
    "        return y_pred #return the predictions\n",
    "\n",
    "    def score(self, X_test,y_test):\n",
    "        return mean_squared_error(y_test,self.predict(X_test)) #(y_true,y_pred)\n",
    "        \n"
   ]
  },
  {
   "cell_type": "markdown",
   "metadata": {},
   "source": [
    "## Loading Data"
   ]
  },
  {
   "cell_type": "code",
   "execution_count": 3,
   "metadata": {},
   "outputs": [],
   "source": [
    "diabetes = datasets.load_diabetes()\n",
    "\n",
    "X = diabetes[\"data\"]\n",
    "y = diabetes[\"target\"]"
   ]
  },
  {
   "cell_type": "markdown",
   "metadata": {},
   "source": [
    "## Splitting Data"
   ]
  },
  {
   "cell_type": "code",
   "execution_count": 4,
   "metadata": {},
   "outputs": [],
   "source": [
    "X_train, X_test, y_train, y_test = train_test_split(X, y, test_size=.3)"
   ]
  },
  {
   "cell_type": "markdown",
   "metadata": {},
   "source": [
    "## Sample Testing\n"
   ]
  },
  {
   "cell_type": "code",
   "execution_count": 5,
   "metadata": {},
   "outputs": [
    {
     "data": {
      "text/plain": [
       "3624.36045112782"
      ]
     },
     "execution_count": 5,
     "metadata": {},
     "output_type": "execute_result"
    }
   ],
   "source": [
    "regr1 = RandomForestRegressor()\n",
    "regr2 = LinearRegression()\n",
    "regr3 = Ridge()        \n",
    "regr = StackingRegressor([regr1, regr2, regr3])\n",
    "\n",
    "regr.fit(X_train, y_train)\n",
    "\n",
    "y_predict = regr.predict(X_test)\n",
    "\n",
    "regr.score(X_test, y_test)  "
   ]
  },
  {
   "cell_type": "markdown",
   "metadata": {},
   "source": [
    "## Conclusion\n",
    "The output from the testing gave around 3000+. This is the MSE also known as  Mean squared error. The MSE is more preferred to over Mean Absolute Error for regression but both gave a relatively similar response."
   ]
  }
 ],
 "metadata": {
  "kernelspec": {
   "display_name": "Python 3",
   "language": "python",
   "name": "python3"
  },
  "language_info": {
   "codemirror_mode": {
    "name": "ipython",
    "version": 3
   },
   "file_extension": ".py",
   "mimetype": "text/x-python",
   "name": "python",
   "nbconvert_exporter": "python",
   "pygments_lexer": "ipython3",
   "version": "3.6.5"
  }
 },
 "nbformat": 4,
 "nbformat_minor": 2
}
