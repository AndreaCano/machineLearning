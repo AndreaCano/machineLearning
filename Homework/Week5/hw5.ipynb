{
 "cells": [
  {
   "cell_type": "markdown",
   "metadata": {},
   "source": [
    "# Logistic regression via gradient descent\n",
    "###  Andrea Cano"
   ]
  },
  {
   "cell_type": "code",
   "execution_count": 2,
   "metadata": {},
   "outputs": [],
   "source": [
    "import numpy as np\n",
    "import numpy.linalg as LA\n",
    "from sklearn.datasets import load_boston, load_iris\n",
    "from sklearn.linear_model import LogisticRegression\n",
    "from sklearn.metrics import accuracy_score\n",
    "import matplotlib.pyplot as plt\n",
    "import matplotlib.cm as cm\n",
    "%matplotlib inline"
   ]
  },
  {
   "cell_type": "markdown",
   "metadata": {},
   "source": [
    "## Define functions used for performing gradient descent"
   ]
  },
  {
   "cell_type": "markdown",
   "metadata": {},
   "source": [
    "#### logistic function"
   ]
  },
  {
   "cell_type": "code",
   "execution_count": 3,
   "metadata": {},
   "outputs": [],
   "source": [
    "def logistic(x):\n",
    "    return 1/(1 + np.exp(-x))"
   ]
  },
  {
   "cell_type": "markdown",
   "metadata": {},
   "source": [
    "#### function logistic_gradient(theta,X,y) -- compute analytic gradients for logistic regression"
   ]
  },
  {
   "cell_type": "code",
   "execution_count": 4,
   "metadata": {},
   "outputs": [],
   "source": [
    "# compute gradients at theta for logistic cost function\n",
    "# (refer to Equation 4-18 of the Geron textbook)\n",
    "# theta is an array of coefficients, X is an augmented \n",
    "# feature matrix, y is an array of numeric labels\n",
    "def logistic_gradient(theta, X, y):\n",
    "    m = X.shape[0] # rows\n",
    "    p = logistic(np.dot(X,theta.T)) # sigmoid(X * theta) \n",
    "    # use matmul for matrix multiplication\n",
    "    grad = np.matmul((p - y), X)/m #X * \n",
    "    # (result of hTheta - y) \n",
    "    # divided by the number of rows(m)\n",
    "    return grad"
   ]
  },
  {
   "cell_type": "code",
   "execution_count": 5,
   "metadata": {},
   "outputs": [
    {
     "name": "stdout",
     "output_type": "stream",
     "text": [
      "[0.41407792 0.17025032]\n"
     ]
    }
   ],
   "source": [
    "# test logistic_gradient\n",
    "m = 3\n",
    "theta = np.array([0.5,1.0])\n",
    "X = np.array([[0.27], [0.66], [0.87]])\n",
    "X0 = np.ones((m,1))\n",
    "X_aug = np.hstack((X0, X))\n",
    "y = np.array([0,0,1])\n",
    "\n",
    "# result should be about [0.41, 0.17]\n",
    "print(logistic_gradient(theta, X_aug, y))"
   ]
  },
  {
   "cell_type": "markdown",
   "metadata": {},
   "source": [
    "#### function find_min(grads, alpha, max_iterations, min_change) - gradient descent algorithm"
   ]
  },
  {
   "cell_type": "code",
   "execution_count": 6,
   "metadata": {},
   "outputs": [],
   "source": [
    "# use gradient descent to find a vector that is the approximate\n",
    "# minimum of a function whose gradients can be computed with\n",
    "# function grads\n",
    "# grads - computes gradients of a function\n",
    "# n - length of vector expected by grads as input\n",
    "# alpha - learning rate\n",
    "# max_iterations and min_change are stopping conditions:\n",
    "#   max_iterations - return if max_iterations performed\n",
    "#   min_change - return if change to x is less than min_change\n",
    "def grad_descent(grads, n, alpha=0.01, max_iterations=10000, min_change=0.0001):\n",
    "    x = np.zeros(n)        # this is just one way to initialize\n",
    "    num_iterations = 0\n",
    "    while num_iterations <= max_iterations:\n",
    "        x_last = x\n",
    "        x = x - grads(x)*alpha    # update x\n",
    "        resid = x - x_last\n",
    "        change = np.sqrt(resid.dot(resid))\n",
    "        if change < min_change:\n",
    "            print(\"stopped on min change\")\n",
    "            return(x)\n",
    "        num_iterations += 1\n",
    "    print(\"stopped on max iterations\")\n",
    "    return(x)"
   ]
  },
  {
   "cell_type": "markdown",
   "metadata": {},
   "source": [
    "### Load and preprocess the 1978 Boston housing data"
   ]
  },
  {
   "cell_type": "code",
   "execution_count": 7,
   "metadata": {},
   "outputs": [],
   "source": [
    "dat = load_boston()\n",
    "  \n",
    "X = dat['data'][:,5:6]   # avg. number of rooms\n",
    "y = dat['target']        # house price (thousands of dollars)\n",
    "dat['feature_names']\n",
    "\n",
    "# remove data where the house price is exactly the max value\n",
    "# of 50.0; this is a result of censoring.\n",
    "not_max_rows = (y != 50.0)\n",
    "y = y[not_max_rows]\n",
    "X = X[not_max_rows]\n",
    "n,m = X.shape\n",
    "\n",
    "# convert target to 0/1, with 1 for house price > 25\n",
    "y = np.where(y > 25.0, 1.0, 0.0)"
   ]
  },
  {
   "cell_type": "markdown",
   "metadata": {},
   "source": [
    "The augmented matrix of training data, with 1's in the first column."
   ]
  },
  {
   "cell_type": "code",
   "execution_count": 8,
   "metadata": {},
   "outputs": [],
   "source": [
    "X0 = np.ones((n,1))\n",
    "X_aug = np.hstack((X0, X))"
   ]
  },
  {
   "cell_type": "markdown",
   "metadata": {},
   "source": [
    "We're going to try to predict if a house is expensive by looking at the number of rooms."
   ]
  },
  {
   "cell_type": "code",
   "execution_count": 9,
   "metadata": {},
   "outputs": [
    {
     "data": {
      "image/png": "[encoded data removed]",
      "text/plain": [
       "<Figure size 432x288 with 1 Axes>"
      ]
     },
     "metadata": {},
     "output_type": "display_data"
    }
   ],
   "source": [
    "plt.scatter(X, y)\n",
    "plt.xlabel('Number of rooms')\n",
    "plt.ylabel('House price > $25K')\n",
    "plt.title('House price by number of rooms');"
   ]
  },
  {
   "cell_type": "markdown",
   "metadata": {},
   "source": [
    "#### function log_loss(theta, X, y) -- logistic regression cost function"
   ]
  },
  {
   "cell_type": "code",
   "execution_count": 10,
   "metadata": {},
   "outputs": [],
   "source": [
    "# logistic regression loss function\n",
    "# (refer to Equation 4-17 of the Geron textbook)\n",
    "# X is an augmented feature matrix of two columns, y is an array of numeric labels\n",
    "def log_loss(theta, X, y):\n",
    "    m = X.shape[0] # rows\n",
    "    p = logistic(np.dot(X,theta.T)) # sigmoid(X * theta) \n",
    "    result = -np.mean(y*np.log(p) + (1-y)*(np.log(1-p)))\n",
    "    return result"
   ]
  },
  {
   "cell_type": "code",
   "execution_count": 11,
   "metadata": {},
   "outputs": [],
   "source": [
    "# a version of the loss function where the training data is hidden\n",
    "def f_loss(theta):\n",
    "    return log_loss(theta, X_aug, y)"
   ]
  },
  {
   "cell_type": "markdown",
   "metadata": {},
   "source": [
    "Plot log loss for a range of coefficient values"
   ]
  },
  {
   "cell_type": "code",
   "execution_count": 12,
   "metadata": {},
   "outputs": [
    {
     "data": {
      "image/png": "[encoded data removed]",
      "text/plain": [
       "<Figure size 432x288 with 1 Axes>"
      ]
     },
     "metadata": {},
     "output_type": "display_data"
    }
   ],
   "source": [
    "theta0 = np.linspace(-15, 5, 20)\n",
    "theta1 = np.linspace(-1.5, 2.5, 20)\n",
    "theta0, theta1 = np.meshgrid(theta0, theta1)\n",
    "\n",
    "# see stackoverflow.com/questions/9170838/surface-plots-in-matplotlib\n",
    "zs = np.array([f_loss(np.array([t0, t1])) for t0,t1 in zip(np.ravel(theta0), np.ravel(theta1))])\n",
    "Z = zs.reshape(theta0.shape)\n",
    "    \n",
    "cmap = cm.get_cmap('bwr')   # red value is high, dark blue is low\n",
    "plt.contourf(theta0, theta1, Z, 30, cmap=cmap);      # filled contour map"
   ]
  },
  {
   "cell_type": "markdown",
   "metadata": {},
   "source": [
    "### Logistic regression using gradient descent"
   ]
  },
  {
   "cell_type": "markdown",
   "metadata": {},
   "source": [
    "A simplified version of the logistic regression gradients function that does not expose the training data as parameters."
   ]
  },
  {
   "cell_type": "code",
   "execution_count": 13,
   "metadata": {},
   "outputs": [],
   "source": [
    "# create version of log loss function with single vector input\n",
    "def f_grads(theta):\n",
    "    return logistic_gradient(theta, X_aug, y)"
   ]
  },
  {
   "cell_type": "markdown",
   "metadata": {},
   "source": [
    "Perform gradient descent."
   ]
  },
  {
   "cell_type": "code",
   "execution_count": 14,
   "metadata": {},
   "outputs": [
    {
     "name": "stdout",
     "output_type": "stream",
     "text": [
      "stopped on max iterations\n",
      "[-6.30798433  0.8114522 ]\n",
      "0.42063555832082145\n"
     ]
    }
   ],
   "source": [
    "gd_coefs = grad_descent(f_grads, 2, alpha=0.01, max_iterations=30000, min_change=0.0001)\n",
    "print(gd_coefs)\n",
    "print(f_loss(gd_coefs))"
   ]
  },
  {
   "cell_type": "markdown",
   "metadata": {},
   "source": [
    "### Logistic regression using Scikit Learn"
   ]
  },
  {
   "cell_type": "code",
   "execution_count": 15,
   "metadata": {},
   "outputs": [
    {
     "name": "stdout",
     "output_type": "stream",
     "text": [
      "[-7.16254904  0.94370368]\n",
      "0.40731489964464973\n"
     ]
    }
   ],
   "source": [
    "lr_clf = LogisticRegression()\n",
    "lr_clf.fit(X, y)\n",
    "lr_clf.score(X, y)\n",
    "sk_coefs = np.array([lr_clf.intercept_[0], lr_clf.coef_[0,0]])\n",
    "print(sk_coefs)\n",
    "print(f_loss(sk_coefs))"
   ]
  },
  {
   "cell_type": "code",
   "execution_count": 16,
   "metadata": {},
   "outputs": [
    {
     "name": "stdout",
     "output_type": "stream",
     "text": [
      "0.7979591836734694\n",
      "0.8081632653061225\n"
     ]
    }
   ],
   "source": [
    "# compute accuracy using coefficients\n",
    "def accuracy(theta) :\n",
    "    y_pred = logistic(X_aug.dot(theta))\n",
    "    y_pred = np.where(y_pred > 0.5, 1, 0)\n",
    "    return accuracy_score(y, y_pred)\n",
    "\n",
    "print(accuracy(gd_coefs))\n",
    "print(accuracy(sk_coefs))"
   ]
  },
  {
   "cell_type": "markdown",
   "metadata": {},
   "source": [
    "Plot logistic curve over the data"
   ]
  },
  {
   "cell_type": "code",
   "execution_count": 42,
   "metadata": {},
   "outputs": [
    {
     "data": {
      "image/png": "[encoded data removed]",
      "text/plain": [
       "<Figure size 432x288 with 1 Axes>"
      ]
     },
     "metadata": {},
     "output_type": "display_data"
    }
   ],
   "source": [
    "plt.scatter(X, y)\n",
    "plt.xlabel('Number of rooms')\n",
    "plt.ylabel('House price > $25K')\n",
    "plt.title('House price by number of rooms')\n",
    "\n",
    "X_test = np.linspace(3, 9, 20)\n",
    "X0 = np.ones((len(X_test),1))\n",
    "X_aug = np.hstack((X0, X_test.reshape((-1,1))))\n",
    "sk = logistic(X_aug.dot(sk_coefs))\n",
    "plt.plot(X_test, sk, color='green')\n",
    "\n",
    "grad = logistic(X_aug.dot(gd_coefs))\n",
    "plt.plot(X_test,grad ,color = 'orange' )\n",
    "\n",
    "plt.legend(labels=(\"sklearn\", \"gradient descent\"));"
   ]
  },
  {
   "cell_type": "code",
   "execution_count": null,
   "metadata": {},
   "outputs": [],
   "source": []
  }
 ],
 "metadata": {
  "kernelspec": {
   "display_name": "Python 3",
   "language": "python",
   "name": "python3"
  },
  "language_info": {
   "codemirror_mode": {
    "name": "ipython",
    "version": 3
   },
   "file_extension": ".py",
   "mimetype": "text/x-python",
   "name": "python",
   "nbconvert_exporter": "python",
   "pygments_lexer": "ipython3",
   "version": "3.6.5"
  }
 },
 "nbformat": 4,
 "nbformat_minor": 2
}
