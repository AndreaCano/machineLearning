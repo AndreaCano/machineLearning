{
 "cells": [
  {
   "cell_type": "markdown",
   "metadata": {},
   "source": [
    "# Titanic Data\n",
    "### *Andrea Cano*\n",
    "***"
   ]
  },
  {
   "cell_type": "markdown",
   "metadata": {},
   "source": [
    "## Introduction"
   ]
  },
  {
   "cell_type": "markdown",
   "metadata": {},
   "source": [
    "The following graphs and matrices show the collected data based on the Tragedy of the Titanic. The data will be preprocessed and explored to provide physical representations of the information provided. \n",
    "Then the data collected will be engaged in multiple machine learning algorithms that will predict survival based on said features. \n",
    "\n",
    "***"
   ]
  },
  {
   "cell_type": "markdown",
   "metadata": {},
   "source": [
    "## Loading Data"
   ]
  },
  {
   "cell_type": "markdown",
   "metadata": {},
   "source": [
    "The first step is importing the necessary libraries and to collect the respective csv file containing the raw data.\n",
    "In my example I have multiple dataframes to separate the categorical and numeric features along with a dataframe containing the features being actively used in this notebook. \n",
    "\n",
    "Note: \n",
    "    I did not include columns such as: \"PassengerId\", \"Name\", \"Parch\", \"Ticket\", and \"Cabin\"."
   ]
  },
  {
   "cell_type": "code",
   "execution_count": 2,
   "metadata": {},
   "outputs": [],
   "source": [
    "import numpy as np \n",
    "import pandas as pd\n",
    "import matplotlib.pyplot as plt\n",
    "import seaborn as sns\n",
    "from sklearn import datasets\n",
    "\n",
    "from sklearn.preprocessing import Imputer, StandardScaler\n",
    "from sklearn.pipeline import FeatureUnion, Pipeline\n",
    "from sklearn.base import BaseEstimator, TransformerMixin"
   ]
  },
  {
   "cell_type": "code",
   "execution_count": 3,
   "metadata": {},
   "outputs": [],
   "source": [
    "csv = pd.read_csv(\"C:/Users/Andrea/Downloads/train.csv\")\n",
    "\n",
    "\n",
    "#creating non-null\n",
    "dat = pd.DataFrame(csv)\n",
    "\n",
    "datCat = pd.DataFrame(dat[[\"Sex\",\"Pclass\", \"Survived\", \"Embarked\"]])\n",
    "datNum = pd.DataFrame(dat[[\"Age\",\"Fare\"]])\n",
    "\n",
    "datUse = pd.DataFrame(dat[[\"Age\",\"Fare\",\"Sex\",\"Pclass\", \"Survived\", \"Embarked\"]])\n",
    "\n",
    "numDatArr = [\"Age\",\"Fare\"]\n",
    "catDatArr = [\"Sex\",\"Pclass\", \"Survived\", \"Embarked\"]\n"
   ]
  },
  {
   "cell_type": "markdown",
   "metadata": {},
   "source": [
    "***\n",
    "## Preprocessing"
   ]
  },
  {
   "cell_type": "markdown",
   "metadata": {},
   "source": [
    "* In this section any NA's that are hiding within the data will be converted and fixed so that they are no longer considered NA's and will be easier to work with. To do this, two pipelines are needed in order to convert the numeric and categorical separately. \n",
    "\n",
    "* The numerical pipeline uses the median of the said columns data and also scales the data to replace NA's and create consistent data. \n",
    "\n",
    "* The categorical pipeline, however, uses mode or the most frequent option that appears in the columns to replace the NA's.\n",
    "\n",
    "* In the end a feature union is required to put both the resulting pipelines together, concatenating the data as a single numpy matrix."
   ]
  },
  {
   "cell_type": "code",
   "execution_count": 24,
   "metadata": {},
   "outputs": [
    {
     "data": {
      "text/plain": [
       "array([[ 3.        ,  0.        ,  0.        , ...,  1.        ,\n",
       "        -0.56573646, -0.50244517],\n",
       "       [ 1.        ,  1.        ,  1.        , ...,  0.        ,\n",
       "         0.66386103,  0.78684529],\n",
       "       [ 3.        ,  1.        ,  1.        , ...,  1.        ,\n",
       "        -0.25833709, -0.48885426],\n",
       "       ...,\n",
       "       [ 3.        ,  0.        ,  1.        , ...,  1.        ,\n",
       "        -0.1046374 , -0.17626324],\n",
       "       [ 1.        ,  1.        ,  0.        , ...,  0.        ,\n",
       "        -0.25833709, -0.04438104],\n",
       "       [ 3.        ,  0.        ,  0.        , ...,  0.        ,\n",
       "         0.20276197, -0.49237783]])"
      ]
     },
     "execution_count": 24,
     "metadata": {},
     "output_type": "execute_result"
    }
   ],
   "source": [
    "#create a class to select colummns from a dataframe\n",
    "\n",
    "class DataSelect(BaseEstimator,TransformerMixin):\n",
    "    def __init__(self, colNames):\n",
    "        self.colNames = colNames\n",
    "    def fit(self,X,y=None):\n",
    "        return self\n",
    "    def transform(self,X):\n",
    "        return  X[self.colNames]\n",
    "\n",
    "\n",
    "#Getting rid of NA's for numerical data\n",
    "pipeNumeric = Pipeline([\n",
    " (\"select_cols\", DataSelect(numDatArr)),\n",
    " (\"remove_nas\", Imputer(strategy=\"median\")),\n",
    " (\"z-scaling\", StandardScaler())\n",
    "\n",
    " ])\n",
    "pipNum = pipeNumeric.fit_transform(datNum)\n",
    "\n",
    "#Need to deal with strings in categorical before putting in piepline so use get_dummies\n",
    "\n",
    "class DumCat(BaseEstimator, TransformerMixin):\n",
    "    def __init__(self):\n",
    "        \"\"\"Adding dummies when needed\"\"\"\n",
    "    def fit(self, X,y=None):\n",
    "        self.dummyDat = pd.get_dummies(X) #Creating dataFrame to run the function\n",
    "        return self\n",
    "    def transform(self,X):\n",
    "        return self.dummyDat #return the dummyDat that has the new columns\n",
    "\n",
    "datTest = pd.DataFrame(dat[[\"Embarked\"]])\n",
    "\n",
    "DumCat().fit_transform(datTest) \n",
    "#to access, need to Class.fit_transform(dataWantChanged)\n",
    "\n",
    "\n",
    "#Getting rid of NA's for categorical data\n",
    "pipeCategory = Pipeline([\n",
    " (\"select_cols\", DataSelect(catDatArr)),\n",
    " (\"get_dummies\", DumCat()),\n",
    " (\"remove_nas\", Imputer(strategy=\"most_frequent\")),\n",
    " ])\n",
    "pipCat = pipeCategory.fit_transform(datCat)\n",
    "\n",
    "\n",
    "#Now that the data is processed, need to join the Numerical and Categorical \n",
    "\n",
    "full_pipeline = FeatureUnion(transformer_list=[\n",
    "         ('cat_data',pipeCategory),\n",
    "        ('num_data',pipeNumeric)\n",
    "        ])\n",
    "united = full_pipeline.fit_transform(datUse)\n",
    "united\n"
   ]
  },
  {
   "cell_type": "markdown",
   "metadata": {},
   "source": [
    "***\n",
    "## Data Exploration"
   ]
  },
  {
   "cell_type": "markdown",
   "metadata": {},
   "source": [
    "Now we are able to explore the data! "
   ]
  },
  {
   "cell_type": "markdown",
   "metadata": {},
   "source": [
    "* Starting with a simple countplot, we see the general ratio of survivors of the Titanic wreck. In this plot 0 represents those who did not survive while 1 represents those who did."
   ]
  },
  {
   "cell_type": "code",
   "execution_count": 5,
   "metadata": {
    "scrolled": true
   },
   "outputs": [
    {
     "data": {
      "image/png": "[encoded data removed]",
      "text/plain": [
       "<Figure size 432x288 with 1 Axes>"
      ]
     },
     "metadata": {},
     "output_type": "display_data"
    }
   ],
   "source": [
    "sns.set(style=\"whitegrid\")\n",
    "sns.countplot(x=\"Survived\",data =dat, palette=\"Set3\")\n",
    "plt.title(\"Survival Count\");"
   ]
  },
  {
   "cell_type": "markdown",
   "metadata": {},
   "source": [
    "* This barplot shows the Survival probability based on Age and Sex; where again, Survived is 1 and 0 is where they did not. There are not that large of differences, tough it seems that men over 25 most likely did not make it."
   ]
  },
  {
   "cell_type": "code",
   "execution_count": 6,
   "metadata": {},
   "outputs": [
    {
     "data": {
      "image/png": "[encoded data removed]",
      "text/plain": [
       "<Figure size 432x288 with 1 Axes>"
      ]
     },
     "metadata": {},
     "output_type": "display_data"
    }
   ],
   "source": [
    "sns.barplot(x= \"Survived\", y=\"Age\", hue =\"Sex\",data = dat, palette=\"Set3\")\n",
    "plt.title(\"Survival based on Age and Sex\");"
   ]
  },
  {
   "cell_type": "markdown",
   "metadata": {},
   "source": [
    "* This plot shows the passengers classes and sex. Each class had more males than females where 3rd class was extremely male dominated. I am assuming this is because of the workers aboard the Titanic were mostly male."
   ]
  },
  {
   "cell_type": "code",
   "execution_count": 7,
   "metadata": {
    "scrolled": true
   },
   "outputs": [
    {
     "data": {
      "image/png": "[encoded data removed]",
      "text/plain": [
       "<Figure size 432x288 with 1 Axes>"
      ]
     },
     "metadata": {},
     "output_type": "display_data"
    }
   ],
   "source": [
    "sns.countplot(\"Pclass\", data=dat, hue=\"Sex\",palette=\"Set3\")\n",
    "plt.title(\"Number of Passengers in each class by Gender\")\n",
    "plt.xlabel(\"Class\");"
   ]
  },
  {
   "cell_type": "markdown",
   "metadata": {},
   "source": [
    "* Lastly, here is a violin plot that represents the Age and Gender of the Passengers. The colors then represent who lived and who did not. It is surprising to see that more females younger than 20 seemed to have not survived especially since more young men were able to survive since woman and children were to be boarded in the lifeboats first. This explains why the female violin is wider."
   ]
  },
  {
   "cell_type": "code",
   "execution_count": 8,
   "metadata": {},
   "outputs": [
    {
     "data": {
      "image/png": "[encoded data removed]",
      "text/plain": [
       "<Figure size 432x288 with 1 Axes>"
      ]
     },
     "metadata": {},
     "output_type": "display_data"
    }
   ],
   "source": [
    "sns.violinplot(x=\"Sex\", y = \"Age\", hue =\"Survived\", data=dat, inner=\"box\", palette=\"Set3\", cut=2, linewidth=3)\n",
    "plt.title(\"Another look at Age and Gender based on Survival\");"
   ]
  },
  {
   "cell_type": "markdown",
   "metadata": {},
   "source": [
    "***\n",
    "## Machine Learning Algorithms"
   ]
  },
  {
   "cell_type": "markdown",
   "metadata": {},
   "source": [
    "* Splitting the training data into test data. Using the fitted and transformed data from the pipelines and splitting them based on the data to be used (x) and the target (y)."
   ]
  },
  {
   "cell_type": "code",
   "execution_count": 9,
   "metadata": {},
   "outputs": [],
   "source": [
    "from sklearn.model_selection import train_test_split\n",
    "\n",
    "x = united[:,[2,3,7]] #sex(2,3) and age(7)\n",
    "y = united[:,1] #survived\n",
    "x_train, x_test, y_train, y_test = train_test_split(x, y, test_size=.5)"
   ]
  },
  {
   "cell_type": "markdown",
   "metadata": {},
   "source": [
    "### * Decision Tree"
   ]
  },
  {
   "cell_type": "markdown",
   "metadata": {},
   "source": [
    "* The first algorithm I am testing is the decision tree. Basing off of Sex and Age, the output shows how well these features affect the survival rate. The score produced shows a 76%+ accuracy in prediction."
   ]
  },
  {
   "cell_type": "code",
   "execution_count": 19,
   "metadata": {},
   "outputs": [
    {
     "data": {
      "text/plain": [
       "0.7668161434977578"
      ]
     },
     "execution_count": 19,
     "metadata": {},
     "output_type": "execute_result"
    }
   ],
   "source": [
    "from sklearn.tree import DecisionTreeClassifier\n",
    "\n",
    "decisiontree = DecisionTreeClassifier()\n",
    "decisiontree.fit(x_train, y_train)\n",
    "y_pred = decisiontree.predict(x_test)\n",
    "score = decisiontree.score(x_test,y_test)\n",
    "score"
   ]
  },
  {
   "cell_type": "markdown",
   "metadata": {},
   "source": [
    "* Here is a confusion matrix to show the number of conditional positives and negatives."
   ]
  },
  {
   "cell_type": "code",
   "execution_count": 20,
   "metadata": {},
   "outputs": [
    {
     "data": {
      "text/plain": [
       "array([[229,  42],\n",
       "       [ 62, 113]], dtype=int64)"
      ]
     },
     "execution_count": 20,
     "metadata": {},
     "output_type": "execute_result"
    }
   ],
   "source": [
    "from sklearn.metrics import confusion_matrix\n",
    "\n",
    "confusion_matrix(y_test,y_pred)"
   ]
  },
  {
   "cell_type": "markdown",
   "metadata": {},
   "source": [
    "### * Logistic Regression"
   ]
  },
  {
   "cell_type": "markdown",
   "metadata": {},
   "source": [
    "* Next algorithm used is logistic regression. Again using Sex and Age, the output shows that with this algorithm there is a 78%+ accuracy to predict survival with these features. Logistic Regression has a higher accuracy because it works best with one or more independent variables to predict something with only two outcomes which makes survival a great target. "
   ]
  },
  {
   "cell_type": "code",
   "execution_count": 21,
   "metadata": {},
   "outputs": [
    {
     "data": {
      "text/plain": [
       "0.7802690582959642"
      ]
     },
     "execution_count": 21,
     "metadata": {},
     "output_type": "execute_result"
    }
   ],
   "source": [
    "from sklearn.linear_model import LogisticRegression\n",
    "\n",
    "log_reg = LogisticRegression()\n",
    "log_reg.fit(x_train,y_train)\n",
    "y_pred = log_reg.predict(x_train)\n",
    "log_scores = log_reg.score(x_test,y_test)\n",
    "log_scores"
   ]
  },
  {
   "cell_type": "markdown",
   "metadata": {},
   "source": [
    "***\n",
    "### Using other Features"
   ]
  },
  {
   "cell_type": "markdown",
   "metadata": {},
   "source": [
    "* In this example Pclass and Sex will be the selected features to predict survival using the same  algorithms above."
   ]
  },
  {
   "cell_type": "code",
   "execution_count": 25,
   "metadata": {},
   "outputs": [],
   "source": [
    "x = united[:,[0,2,3]] #pclass(0) and sex(2,3)\n",
    "y = united[:,1] #survived\n",
    "x_train, x_test, y_train, y_test = train_test_split(x, y, test_size=.5)"
   ]
  },
  {
   "cell_type": "markdown",
   "metadata": {},
   "source": [
    "### * Decision Tree\n",
    "* The score from the Decision tree with these features is more successful by ~3% than the score from using the combination of Sex and Age."
   ]
  },
  {
   "cell_type": "code",
   "execution_count": 26,
   "metadata": {},
   "outputs": [
    {
     "data": {
      "text/plain": [
       "0.7914798206278026"
      ]
     },
     "execution_count": 26,
     "metadata": {},
     "output_type": "execute_result"
    }
   ],
   "source": [
    "decisiontree = DecisionTreeClassifier()\n",
    "decisiontree.fit(x_train, y_train)\n",
    "y_pred = decisiontree.predict(x_test)\n",
    "score = decisiontree.score(x_test,y_test)\n",
    "score"
   ]
  },
  {
   "cell_type": "markdown",
   "metadata": {},
   "source": [
    "* Even the confusion matrix shows the distinct difference between the errors found with these features than the previous ones."
   ]
  },
  {
   "cell_type": "code",
   "execution_count": 27,
   "metadata": {},
   "outputs": [
    {
     "data": {
      "text/plain": [
       "array([[275,   4],\n",
       "       [ 89,  78]], dtype=int64)"
      ]
     },
     "execution_count": 27,
     "metadata": {},
     "output_type": "execute_result"
    }
   ],
   "source": [
    "confusion_matrix(y_test,y_pred)"
   ]
  },
  {
   "cell_type": "markdown",
   "metadata": {},
   "source": [
    "### * Logistic Regression \n",
    "* The score from using logistic regression with these features is only slightly better than the other features with ~1% of a difference. Of course it is still an improvement from the others."
   ]
  },
  {
   "cell_type": "code",
   "execution_count": 28,
   "metadata": {},
   "outputs": [
    {
     "data": {
      "text/plain": [
       "0.8004484304932735"
      ]
     },
     "execution_count": 28,
     "metadata": {},
     "output_type": "execute_result"
    }
   ],
   "source": [
    "log_reg = LogisticRegression()\n",
    "log_reg.fit(x_train,y_train)\n",
    "y_pred = log_reg.predict(x_train)\n",
    "log_scores = log_reg.score(x_test,y_test)\n",
    "log_scores"
   ]
  },
  {
   "cell_type": "markdown",
   "metadata": {},
   "source": [
    "***\n",
    "## Conclusion"
   ]
  },
  {
   "cell_type": "markdown",
   "metadata": {},
   "source": [
    "* From the algorithms conducted, sex and age and pclass and sex are both pretty fair predictors of survival on the Titanic. Although sex and age has a smaller score than pclass and sex, the algorithms differed more based on which was used. Logistic Regression worked best for both instances, probably due to the fact that logistic is based on predicting two-outcome results. However, the decision tree competed pretty well when it came to using the features Pclass and Sex, this seems more likely because both Pclass and Sex categorical so it seems easier to categorize and find similarities. "
   ]
  }
 ],
 "metadata": {
  "kernelspec": {
   "display_name": "Python 3",
   "language": "python",
   "name": "python3"
  },
  "language_info": {
   "codemirror_mode": {
    "name": "ipython",
    "version": 3
   },
   "file_extension": ".py",
   "mimetype": "text/x-python",
   "name": "python",
   "nbconvert_exporter": "python",
   "pygments_lexer": "ipython3",
   "version": "3.6.5"
  }
 },
 "nbformat": 4,
 "nbformat_minor": 2
}
